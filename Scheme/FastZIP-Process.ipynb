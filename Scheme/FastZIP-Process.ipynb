{
 "cells": [
  {
   "cell_type": "markdown",
   "metadata": {},
   "source": [
    "# Process data\n",
    "\n",
    "This notebook contains functionality for processing sensor data in order to 1) compute similarity between colocated and non-colocated devices, including different types of attack: injection (silent- or moving-baseline), replay (replay without delta compensation), and similar context (powerful adversary), 2) generate binary fingerprints from sensor data, and 3) calculate activity recognition metrics (i.e., activity filter in the paper) on chunks of sensor data.  "
   ]
  },
  {
   "cell_type": "markdown",
   "metadata": {},
   "source": [
    "Some magic command to automatically reload changed modules"
   ]
  },
  {
   "cell_type": "code",
   "execution_count": null,
   "metadata": {},
   "outputs": [],
   "source": [
    "%load_ext autoreload\n",
    "%autoreload 2"
   ]
  },
  {
   "cell_type": "markdown",
   "metadata": {},
   "source": [
    "Import necessary modules:"
   ]
  },
  {
   "cell_type": "code",
   "execution_count": null,
   "metadata": {},
   "outputs": [],
   "source": [
    "from process.evaldata import eval_per_sensor, eval_per_sensor_pair\n",
    "from const.globconst import *\n",
    "from const.fpsconst import *\n",
    "from common.util import get_sensor_data"
   ]
  },
  {
   "cell_type": "markdown",
   "metadata": {},
   "source": [
    "### General HowTo: \n",
    "### 1) load sensor data for the specified experiment: in cells 'AR' to 'Compute key corpus' and 'Replay' only *one* experiment should be provided, in the 'Baseline' cells—*two*.\n",
    "\n",
    "### 2) provide necessary parameters: in cells 'AR' to 'Compute key corpus' it is *modality* (e.g., 'acc_v'), while in 'Baseline' and 'Replay' cells, these are *sensor pairs* for computing.\n",
    "\n",
    "### 3) cells are executed one after another, i.e., first necessary parameters are set and computing begins\n",
    "\n",
    "### See comments in individual cells for more details."
   ]
  },
  {
   "cell_type": "markdown",
   "metadata": {},
   "source": [
    "Specify experiments:\n",
    "\n",
    "* **SIM_NON_ADV** - similar cars, non-adversarial setup (all scenarios)\n",
    "* **SIM_ADV** - similar cars, adversarial setup (all scenarios)\n",
    "* **DIFF_PARK** - different cars, parking scenario (non-adversarial setup)\n",
    "* **DIFF_NON_ADV** - different cars, non-adversarial setup (all scenarios except parking)\n",
    "* **DIFF_ADV** - different cars, adversarial setup (all scenarios)"
   ]
  },
  {
   "cell_type": "code",
   "execution_count": null,
   "metadata": {},
   "outputs": [],
   "source": [
    "exp1 = DIFF_NON_ADV\n",
    "exp2 = None         "
   ]
  },
  {
   "cell_type": "markdown",
   "metadata": {},
   "source": [
    "Load and process data\n",
    "\n",
    "Sensor names used below: \n",
    "\n",
    "* **acc_v** - vertical acceleration\n",
    "* **acc_h** - horizontal acceleration\n",
    "* **gyrW** - gyroscope sky-axis\n",
    "* **bar** - altitude computed from barometric pressure"
   ]
  },
  {
   "cell_type": "code",
   "execution_count": null,
   "metadata": {},
   "outputs": [],
   "source": [
    "acc, gyr, bar = get_sensor_data(exp1, exp2)"
   ]
  },
  {
   "cell_type": "markdown",
   "metadata": {},
   "source": [
    "### Activity recognition (AR) evaluation"
   ]
  },
  {
   "cell_type": "code",
   "execution_count": null,
   "metadata": {},
   "outputs": [],
   "source": [
    "# Adjust <EXPERIMENT> and <MODALITY> here (e.g., experiment = exp2, modality = 'gyrW')\n",
    "experiment = exp1\n",
    "modality = 'gyrW'\n",
    "\n",
    "# Do not adjust these parameters\n",
    "action = AR\n",
    "tf = (0, -1)"
   ]
  },
  {
   "cell_type": "code",
   "execution_count": null,
   "metadata": {},
   "outputs": [],
   "source": [
    "# Generate activity recognition (AR) logs\n",
    "\n",
    "if modality == 'acc_v':\n",
    "    # Data for CAR1 and CAR2 must be computed seprately, do NOT do [CAR1, CAR2]!\n",
    "    eval_per_sensor(acc, 'acc_v', CAR1, tf, action, experiment)\n",
    "    eval_per_sensor(acc, 'acc_v', CAR2, tf, action, experiment)\n",
    "    \n",
    "elif modality == 'acc_h':\n",
    "    eval_per_sensor(acc, 'acc_h', CAR1, tf, action, experiment)\n",
    "    eval_per_sensor(acc, 'acc_h', CAR2, tf, action, experiment)\n",
    "    \n",
    "elif modality == 'gyrW':\n",
    "    eval_per_sensor(gyr, 'gyrW', CAR1, tf, action, experiment)\n",
    "    eval_per_sensor(gyr, 'gyrW', CAR2, tf, action, experiment)\n",
    "    \n",
    "elif modality == 'bar':\n",
    "    eval_per_sensor(bar, 'bar', CAR1, tf, action, experiment)\n",
    "    eval_per_sensor(bar, 'bar', CAR2, tf, action, experiment)\n",
    "else:\n",
    "    print('Unknown modality %s' % (modality,))"
   ]
  },
  {
   "cell_type": "markdown",
   "metadata": {},
   "source": [
    "### Generate log files for powerful adversary use case"
   ]
  },
  {
   "cell_type": "code",
   "execution_count": null,
   "metadata": {},
   "outputs": [],
   "source": [
    "# Adjust <EXPERIMENT> and <MODALITY> here (e.g., experiment = exp2, modality = 'gyrW')\n",
    "# Here 'experiment' can only be SIM_ADV or DIFF_ADV\n",
    "experiment = exp1\n",
    "modality = 'bar'\n",
    "\n",
    "action = KEYS\n",
    "# Set up the correct timeframe\n",
    "if experiment == SIM_ADV:\n",
    "    tf = (0, 11540)\n",
    "elif experiment == DIFF_ADV:\n",
    "    tf = (0, -1)\n",
    "else:\n",
    "    print('Unknown <experiment> %s: can only be SIM_ADV or DIFF_ADV!' % (experiment,))"
   ]
  },
  {
   "cell_type": "code",
   "execution_count": null,
   "metadata": {},
   "outputs": [],
   "source": [
    "# Generate powerful adversary logs (Note: the resulting folder is named 'keys')\n",
    "\n",
    "if modality == 'acc_v':\n",
    "    # Data for CAR1 and CAR2 must be computed seprately, do NOT do [CAR1, CAR2]!\n",
    "    eval_per_sensor(acc, 'acc_v', CAR1, tf, action, experiment, rnoise='chunk', powerful=True)\n",
    "    eval_per_sensor(acc, 'acc_v', CAR2, tf, action, experiment, rnoise='chunk', powerful=True)\n",
    "    \n",
    "elif modality == 'acc_h':\n",
    "    eval_per_sensor(acc, 'acc_h', CAR1, tf, action, experiment, rnoise='chunk', powerful=True)\n",
    "    eval_per_sensor(acc, 'acc_h', CAR2, tf, action, experiment, rnoise='chunk', powerful=True)\n",
    "    \n",
    "elif modality == 'gyrW':\n",
    "    eval_per_sensor(gyr, 'gyrW', CAR1, tf, action, experiment, rnoise='chunk', powerful=True)\n",
    "    eval_per_sensor(gyr, 'gyrW', CAR2, tf, action, experiment, rnoise='chunk', powerful=True)\n",
    "    \n",
    "elif modality == 'bar':\n",
    "    eval_per_sensor(bar, 'bar', CAR1, tf, action, experiment, rnoise='chunk', powerful=True)\n",
    "    eval_per_sensor(bar, 'bar', CAR2, tf, action, experiment, rnoise='chunk', powerful=True)\n",
    "else:\n",
    "    print('Unknown modality %s' % (modality,))"
   ]
  },
  {
   "cell_type": "markdown",
   "metadata": {},
   "source": [
    "### Benign evaluation (or xcorr):"
   ]
  },
  {
   "cell_type": "code",
   "execution_count": null,
   "metadata": {},
   "outputs": [],
   "source": [
    "# Adjust <ACTION>, <EXPERIMENT> and <MODALITY> here (e.g., action='benign', experiment = exp2, modality = 'bar')\n",
    "action = 'benign'\n",
    "experiment = exp1\n",
    "modality = 'bar'\n",
    "\n",
    "# Set up timeframe depending on the experiment\n",
    "if experiment == SIM_NON_ADV:\n",
    "    tf = (1210, -1)\n",
    "    \n",
    "elif experiment == SIM_ADV:\n",
    "    tf = (0, 11540)\n",
    "    \n",
    "elif experiment == DIFF_PARK:\n",
    "    tf = (530, 2810)\n",
    "    \n",
    "elif experiment == DIFF_NON_ADV:\n",
    "    tf = (905, -1)\n",
    "    \n",
    "elif experiment == DIFF_ADV:\n",
    "    tf = (0, -1)\n",
    "    \n",
    "else:\n",
    "    print('Unknown experiment %s' % (experiment,))"
   ]
  },
  {
   "cell_type": "markdown",
   "metadata": {},
   "source": [
    "#### CAR1: "
   ]
  },
  {
   "cell_type": "code",
   "execution_count": null,
   "metadata": {},
   "outputs": [],
   "source": [
    "# Sensor sensor_pairs and tframes are fixed params\n",
    "sensor_pairs = [('01', '02'), ('01', '03'), ('01', '04'), ('01', '05'), ('02', '03'), ('02', '04'), ('02', '05'), \n",
    "                ('03', '04'), ('03', '05'), ('04', '05')]\n",
    "tframes = [(tf, tf), (tf, tf), (tf, tf), (tf, tf), (tf, tf), (tf, tf), (tf, tf), (tf, tf), (tf, tf), (tf, tf)] \n",
    "\n",
    "if modality == 'acc_v':\n",
    "    eval_per_sensor_pair(acc, 'acc_v', sensor_pairs, tframes, action, experiment, rnoise='chunk')\n",
    "    \n",
    "elif modality == 'acc_h':\n",
    "    eval_per_sensor_pair(acc, 'acc_h', sensor_pairs, tframes, action, experiment, rnoise='chunk')\n",
    "    \n",
    "elif modality == 'gyrW':\n",
    "    eval_per_sensor_pair(gyr, 'gyrW', sensor_pairs, tframes, action, experiment, rnoise='chunk')\n",
    "    \n",
    "elif modality == 'bar':\n",
    "    eval_per_sensor_pair(bar, 'bar', sensor_pairs, tframes, action, experiment, rnoise='chunk')\n",
    "    \n",
    "else:\n",
    "    print('Unknown modality %s' % (modality,))"
   ]
  },
  {
   "cell_type": "markdown",
   "metadata": {},
   "source": [
    "#### CAR2"
   ]
  },
  {
   "cell_type": "code",
   "execution_count": null,
   "metadata": {},
   "outputs": [],
   "source": [
    "# Sensor sensor_pairs and tframes are fixed params\n",
    "sensor_pairs = [('06', '07'), ('06', '08'), ('06', '09'), ('06', '10'), ('07', '08'), ('07', '09'), ('07', '10'), \n",
    "                ('08', '09'), ('08', '10'), ('09', '10')]\n",
    "tframes = [(tf, tf), (tf, tf), (tf, tf), (tf, tf), (tf, tf), (tf, tf), (tf, tf), (tf, tf), (tf, tf), (tf, tf)] \n",
    "\n",
    "if modality == 'acc_v':\n",
    "    eval_per_sensor_pair(acc, 'acc_v', sensor_pairs, tframes, action, experiment, rnoise='chunk')\n",
    "    \n",
    "elif modality == 'acc_h':\n",
    "    eval_per_sensor_pair(acc, 'acc_h', sensor_pairs, tframes, action, experiment, rnoise='chunk')\n",
    "    \n",
    "elif modality == 'gyrW':\n",
    "    eval_per_sensor_pair(gyr, 'gyrW', sensor_pairs, tframes, action, experiment, rnoise='chunk')\n",
    "    \n",
    "elif modality == 'bar':\n",
    "    eval_per_sensor_pair(bar, 'bar', sensor_pairs, tframes, action, experiment, rnoise='chunk')\n",
    "    \n",
    "else:\n",
    "    print('Unknown modality %s' % (modality,))"
   ]
  },
  {
   "cell_type": "markdown",
   "metadata": {},
   "source": [
    "### Compute extended corpus of the keys for CAR1 and CAR2"
   ]
  },
  {
   "cell_type": "code",
   "execution_count": null,
   "metadata": {},
   "outputs": [],
   "source": [
    "# Adjust <EXPERIMENT>, <MODALITY>, and <DATA_SET> here (e.g., experiment = exp2, modality = 'gyrW', data_set = 'full')\n",
    "experiment = exp1\n",
    "modality = 'bar'\n",
    "data_set = 'full'         # Can only be 'full' or 'reduced'\n",
    "\n",
    "# Do not change this parameter\n",
    "action = KEYS\n",
    "\n",
    "# Set up timeframe depending on the experiment\n",
    "if experiment == SIM_NON_ADV:\n",
    "    tf = (1210, -1)\n",
    "    \n",
    "elif experiment == SIM_ADV:\n",
    "    tf = (0, 11540)\n",
    "    \n",
    "elif experiment == DIFF_PARK:\n",
    "    tf = (530, 2810)\n",
    "    \n",
    "elif experiment == DIFF_NON_ADV:\n",
    "    tf = (905, -1)\n",
    "    \n",
    "elif experiment == DIFF_ADV:\n",
    "    tf = (0, -1)\n",
    "\n",
    "else:\n",
    "    print('Unknown experiment %s' % (experiment,))\n",
    "\n",
    "# Set up n_bits and sanity check 'data_set'\n",
    "if data_set == 'full':\n",
    "    if modality == 'acc_v' or modality == 'acc_h':\n",
    "        n_bits = BITS_ACC\n",
    "    elif modality == 'gyrW':\n",
    "        n_bits = BITS_GYR\n",
    "    elif modality == 'bar':\n",
    "        n_bits = BITS_BAR\n",
    "    else:\n",
    "        print('Unknown modality %s' % (modality,))\n",
    "elif data_set == 'reduced':\n",
    "    if modality == 'acc_v' or modality == 'acc_h':\n",
    "        n_bits = int(BITS_ACC / 2 + 1)\n",
    "    elif modality == 'gyrW':\n",
    "        n_bits = int(BITS_GYR / 2 + 1)\n",
    "    elif modality == 'bar':\n",
    "        n_bits = int(BITS_BAR / 2 + 1)\n",
    "    else:\n",
    "        print('Unknown modality %s' % (modality,))\n",
    "else:\n",
    "    print('Unknown <data_set> %s: can only be \"full\" or \"reduced\"!' % (data_set,))"
   ]
  },
  {
   "cell_type": "code",
   "execution_count": null,
   "metadata": {},
   "outputs": [],
   "source": [
    "# Generate fingerprints\n",
    "if modality == 'acc_v':\n",
    "    eval_per_sensor(acc, 'acc_v', CAR1, tf, action, experiment, n_bits, rnoise='chunk')\n",
    "    eval_per_sensor(acc, 'acc_v', CAR2, tf, action, experiment, n_bits, rnoise='chunk')\n",
    "\n",
    "elif modality == 'acc_h':\n",
    "    eval_per_sensor(acc, 'acc_h', CAR1, tf, action, experiment, n_bits, rnoise='chunk')\n",
    "    eval_per_sensor(acc, 'acc_h', CAR2, tf, action, experiment, n_bits, rnoise='chunk')\n",
    "\n",
    "elif modality == 'gyrW':\n",
    "    eval_per_sensor(gyr, 'gyrW', CAR1, tf, action, experiment, n_bits, rnoise='chunk')\n",
    "    eval_per_sensor(gyr, 'gyrW', CAR2, tf, action, experiment, n_bits, rnoise='chunk')\n",
    "\n",
    "elif modality == 'bar':\n",
    "    eval_per_sensor(bar, 'bar', CAR1, tf, action, experiment, n_bits, rnoise='chunk')\n",
    "    eval_per_sensor(bar, 'bar', CAR2, tf, action, experiment, n_bits, rnoise='chunk')\n",
    "\n",
    "else:\n",
    "    print('Unknown modality %s' % (modality,))"
   ]
  },
  {
   "cell_type": "markdown",
   "metadata": {},
   "source": [
    "### Baseline adversary (silent): \n",
    "\n",
    "The structure of evaluation is given below\n",
    "\n",
    "* **SIM_NON_ADV**; data is loaded as *get_sensor_data(SIM_NON_ADV, exp2)*, where *exp2* is one of the following: \n",
    "    * SIM_NON_ADV\n",
    "    * DIFF_PARK\n",
    "    * DIFF_NON_ADV\n",
    "    \n",
    "\n",
    "* **SIM_ADV**; data is loaded as *get_sensor_data(SIM_ADV, exp2)*, where *exp2* is one of the following:\n",
    "    * SIM_NON_ADV\n",
    "    * DIFF_PARK\n",
    "    * DIFF_NON_ADV\n",
    "    \n",
    "\n",
    "* **DIFF_PARK**; data is loaded as *get_sensor_data(DIFF_PARK, exp2)*, where *exp2* is one of the following:\n",
    "    * SIM_NON_ADV\n",
    "    * DIFF_PARK\n",
    "    * DIFF_NON_ADV\n",
    "    \n",
    "\n",
    "* **DIFF_NON_ADV**; data is loaded as *get_sensor_data(DIFF_NON_ADV, exp2)*, where *exp2* is one of the following:\n",
    "    * SIM_NON_ADV\n",
    "    * DIFF_PARK\n",
    "    * DIFF_NON_ADV\n",
    "    \n",
    "\n",
    "* **DIFF_ADV**; data is loaded as *get_sensor_data(DIFF_ADV, exp2)*, where *exp2* is one of the following:\n",
    "    * SIM_NON_ADV\n",
    "    * DIFF_PARK\n",
    "    * DIFF_NON_ADV"
   ]
  },
  {
   "cell_type": "code",
   "execution_count": null,
   "metadata": {},
   "outputs": [],
   "source": [
    "action = 'baseline'\n",
    "\n",
    "# Check if we have intra- or inter-experiment case\n",
    "if exp2 is None:\n",
    "    # Intra-experiment case (consider experiment where silent periods exist)\n",
    "    if exp1 == SIM_NON_ADV:\n",
    "        tf1 = (1210, -1)\n",
    "        tf2 = (0, 1210)\n",
    "\n",
    "    elif exp1 == DIFF_PARK:\n",
    "        tf1 = (530, 2810)\n",
    "        tf2 = (0, 530)\n",
    "    \n",
    "    elif exp1 == DIFF_NON_ADV:\n",
    "        tf1 = (905, -1)\n",
    "        tf2 = (0, 905)\n",
    "    \n",
    "    else:\n",
    "        print('In the baseline (silent, INTRA) experiment 1 can only be \"%s\", \"%s\" or \"%s\"' % \n",
    "              (SIM_NON_ADV, DIFF_PARK, DIFF_NON_ADV))\n",
    "        \n",
    "    # Construct experiment string\n",
    "    exp_str = exp1 + '_' + 'silent' + '_' + exp1\n",
    "    \n",
    "    # Addition to the key\n",
    "    kad = ''\n",
    "        \n",
    "else:\n",
    "    # Inter-experiment case: check if we are not doing the redundant work\n",
    "    if exp1 == exp2:\n",
    "        print('Experiment names are the same in the baseline (silent) INTER, double check the provided experiments!')\n",
    "    \n",
    "    # tf1 is from exp1 (all experiments)\n",
    "    if exp1 == SIM_NON_ADV:\n",
    "        tf1 = (1210, -1)\n",
    "        \n",
    "    elif exp1 == SIM_ADV:\n",
    "        tf1 = (0, 11540)\n",
    "\n",
    "    elif exp1 == DIFF_PARK:\n",
    "        tf1 = (530, 2810)\n",
    "\n",
    "    elif exp1 == DIFF_NON_ADV:\n",
    "        tf1 = (905, -1)\n",
    "\n",
    "    elif exp1 == DIFF_ADV:\n",
    "        tf1 = (0, -1)\n",
    "        \n",
    "    else:    \n",
    "        print('Unknown experiment 1 %s' % (exp1,))\n",
    "    \n",
    "    # tf2 is from exp 2 (only silent periods) \n",
    "    if exp2 == SIM_NON_ADV:\n",
    "        tf2 = (0, 1210)\n",
    "    \n",
    "    elif exp2 == DIFF_PARK:\n",
    "        tf2 = (0, 530)\n",
    "    \n",
    "    elif exp2 == DIFF_NON_ADV:\n",
    "        tf2 = (0, 905)\n",
    "        \n",
    "    else:\n",
    "        print('In the baseline (silent, INTER) experiment 2 can only be \"%s\", \"%s\" or \"%s\"' % \n",
    "              (SIM_NON_ADV, DIFF_PARK, DIFF_NON_ADV))\n",
    "    \n",
    "    # Construct experiment string\n",
    "    exp_str = exp1 + '_' + 'silent' + '_' + exp2\n",
    "    \n",
    "    # Addition to the key\n",
    "    kad = 'x'"
   ]
  },
  {
   "cell_type": "markdown",
   "metadata": {},
   "source": [
    "### Baseline adversary (moving):\n",
    "\n",
    "The structure of evaluation is given below\n",
    "\n",
    "* **SIM_NON_ADV**; data is loaded as *get_sensor_data(SIM_NON_ADV, exp2)*, where *exp2* is one of the following: \n",
    "    * SIM_NON_ADV\n",
    "    * SIM_ADV\n",
    "    * DIFF_PARK\n",
    "    * DIFF_NON_ADV\n",
    "    * DIFF_ADV\n",
    "    \n",
    "\n",
    "* **SIM_ADV**; data is loaded as *get_sensor_data(SIM_ADV, exp2)*, where *exp2* is one of the following:\n",
    "    * SIM_NON_ADV\n",
    "    * SIM_ADV\n",
    "    * DIFF_PARK\n",
    "    * DIFF_NON_ADV\n",
    "    * DIFF_ADV\n",
    "    \n",
    "\n",
    "* **DIFF_PARK**; data is loaded as *get_sensor_data(DIFF_PARK, exp2)*, where *exp2* is one of the following:\n",
    "    * SIM_NON_ADV\n",
    "    * SIM_ADV\n",
    "    * DIFF_PARK\n",
    "    * DIFF_NON_ADV\n",
    "    * DIFF_ADV\n",
    "    \n",
    "\n",
    "* **DIFF_NON_ADV**; data is loaded as *get_sensor_data(DIFF_NON_ADV, exp2)*, where *exp2* is one of the following:\n",
    "    * SIM_NON_ADV\n",
    "    * SIM_ADV\n",
    "    * DIFF_PARK\n",
    "    * DIFF_NON_ADV\n",
    "    * DIFF_ADV\n",
    "    \n",
    "\n",
    "* **DIFF_ADV**; data is loaded as *get_sensor_data(DIFF_ADV, exp2)*, where *exp2* is one of the following:\n",
    "    * SIM_NON_ADV\n",
    "    * SIM_ADV\n",
    "    * DIFF_PARK\n",
    "    * DIFF_NON_ADV\n",
    "    * DIFF_ADV"
   ]
  },
  {
   "cell_type": "code",
   "execution_count": null,
   "metadata": {},
   "outputs": [],
   "source": [
    "action = 'baseline'\n",
    "\n",
    "# Check if we have intra- or inter-experiment case\n",
    "if exp2 == None:\n",
    "    # Intra-experiment case\n",
    "    if exp1 == SIM_NON_ADV:\n",
    "        tf1 = (1210, -1)\n",
    "        tf2 = (1210, -1)\n",
    "    \n",
    "    elif exp1 == SIM_ADV:\n",
    "        tf1 = (0, 11540)\n",
    "        tf2 = (0, 11540)\n",
    "    \n",
    "    elif exp1 == DIFF_PARK:\n",
    "        tf1 = (530, 2810)\n",
    "        tf2 = (530, 2810)\n",
    "    \n",
    "    elif exp1 == DIFF_NON_ADV:\n",
    "        tf1 = (905, -1)\n",
    "        tf2 = (905, -1)\n",
    "    \n",
    "    elif exp1 == DIFF_ADV:\n",
    "        tf1 = (0, -1)\n",
    "        tf2 = (0, -1)\n",
    "        \n",
    "    else:\n",
    "        print('Unknown experiment 1 %s' % (exp1,))\n",
    "    \n",
    "    # Construct experiment string\n",
    "    exp_str = exp1 + '_' + 'moving' + '_' + exp1\n",
    "    \n",
    "    # Addition to the key\n",
    "    kad = ''\n",
    "    \n",
    "else:\n",
    "    # Inter-experiment case: check if we are not doing the redundant work\n",
    "    if exp1 == exp2:\n",
    "        print('Experiment names are the same in the baseline (moving) INTER, double check the provided experiments!')\n",
    "    \n",
    "    # tf1 is from exp1 (all experiments)\n",
    "    if exp1 == SIM_NON_ADV:\n",
    "        tf1 = (1210, -1)\n",
    "        \n",
    "    elif exp1 == SIM_ADV:\n",
    "        tf1 = (0, 11540)\n",
    "\n",
    "    elif exp1 == DIFF_PARK:\n",
    "        tf1 = (530, 2810)\n",
    "\n",
    "    elif exp1 == DIFF_NON_ADV:\n",
    "        tf1 = (905, -1)\n",
    "\n",
    "    elif exp1 == DIFF_ADV:\n",
    "        tf1 = (0, -1)\n",
    "        \n",
    "    else:    \n",
    "        print('Unknown experiment 1 %s' % (exp1,))\n",
    "        \n",
    "    # tf2 is from exp 2 (all experiments)     \n",
    "    if exp2 == SIM_NON_ADV:\n",
    "        tf2 = (1210, -1)\n",
    "        \n",
    "    elif exp2 == SIM_ADV:\n",
    "        tf2 = (0, 11540)\n",
    "\n",
    "    elif exp2 == DIFF_PARK:\n",
    "        tf2 = (530, 2810)\n",
    "\n",
    "    elif exp2 == DIFF_NON_ADV:\n",
    "        tf2 = (905, -1)\n",
    "\n",
    "    elif exp2 == DIFF_ADV:\n",
    "        tf2 = (0, -1)\n",
    "        \n",
    "    else:    \n",
    "        print('Unknown experiment 2 %s' % (exp2,))\n",
    "        \n",
    "    # Construct experiment string\n",
    "    exp_str = exp1 + '_' + 'moving' + '_' + exp2\n",
    "    \n",
    "    # Addition to the key\n",
    "    kad = 'x'"
   ]
  },
  {
   "cell_type": "markdown",
   "metadata": {},
   "source": [
    "### Computation for baseline (both silent and moving): computaion takes a while, so I highly recommend distributing it on different machines, i.e., each machine computes on two lists of sensor pairs (see below). The computation is already parallelized on a pair level (i.e., elements in the *sensor_pairsX* list), so throwing more than 10 cores at the problem won't make it faster. "
   ]
  },
  {
   "cell_type": "markdown",
   "metadata": {},
   "source": [
    "#### Pick a pair per node: 01-02 (nodes 01 and 11)"
   ]
  },
  {
   "cell_type": "code",
   "execution_count": null,
   "metadata": {},
   "outputs": [],
   "source": [
    "sensor_pairs1 = [('01', kad + '01'), ('01', kad + '02'), ('01', kad + '03'), ('01', kad + '04'), ('01', kad + '05'), \n",
    "                ('01', kad + '06'), ('01', kad + '07'), ('01', kad + '08'), ('01', kad + '09'), ('01', kad + '10')]\n",
    "\n",
    "sensor_pairs2 = [('02', kad + '01'), ('02', kad + '02'), ('02', kad + '03'), ('02', kad + '04'), ('02', kad + '05'),\n",
    "                ('02', kad + '06'), ('02', kad + '07'), ('02', kad + '08'), ('02', kad + '09'), ('02', kad + '10')]"
   ]
  },
  {
   "cell_type": "markdown",
   "metadata": {},
   "source": [
    "#### Pick a pair per node: 03-04 (nodes 02 and 12)"
   ]
  },
  {
   "cell_type": "code",
   "execution_count": null,
   "metadata": {},
   "outputs": [],
   "source": [
    "sensor_pairs1 = [('03', kad + '01'), ('03', kad + '02'), ('03', kad + '03'), ('03', kad + '04'), ('03', kad + '05'), \n",
    "                ('03', kad + '06'), ('03', kad + '07'), ('03', kad + '08'), ('03', kad + '09'), ('03', kad + '10')]\n",
    "\n",
    "sensor_pairs2 = [('04', kad + '01'), ('04', kad + '02'), ('04', kad + '03'), ('04', kad + '04'), ('04', kad + '05'), \n",
    "                ('04', kad + '06'), ('04', kad + '07'), ('04', kad + '08'), ('04', kad + '09'), ('04', kad + '10')]"
   ]
  },
  {
   "cell_type": "markdown",
   "metadata": {},
   "source": [
    "#### Pick a pair per node: 05-06 (nodes 03 and 14)"
   ]
  },
  {
   "cell_type": "code",
   "execution_count": null,
   "metadata": {},
   "outputs": [],
   "source": [
    "sensor_pairs1 = [('05', kad + '01'), ('05', kad + '02'), ('05', kad + '03'), ('05', kad + '04'), ('05', kad + '05'), \n",
    "                ('05', kad + '06'), ('05', kad + '07'), ('05', kad + '08'), ('05', kad + '09'), ('05', kad + '10')]\n",
    "\n",
    "sensor_pairs2 = [('06', kad + '01'), ('06', kad + '02'), ('06', kad + '03'), ('06', kad + '04'), ('06', kad + '05'), \n",
    "                ('06', kad + '06'), ('06', kad + '07'), ('06', kad + '08'), ('06', kad + '09'), ('06', kad + '10')]"
   ]
  },
  {
   "cell_type": "markdown",
   "metadata": {},
   "source": [
    "#### Pick a pair per node: 07-08 (nodes 04 and 16)"
   ]
  },
  {
   "cell_type": "code",
   "execution_count": null,
   "metadata": {},
   "outputs": [],
   "source": [
    "sensor_pairs1 = [('07', kad + '01'), ('07', kad + '02'), ('07', kad + '03'), ('07', kad + '04'), ('07', kad + '05'), \n",
    "                ('07', kad + '06'), ('07', kad + '07'), ('07', kad + '08'), ('07', kad + '09'), ('07', kad + '10')]\n",
    "\n",
    "sensor_pairs2 = [('08', kad + '01'), ('08', kad + '02'), ('08', kad + '03'), ('08', kad + '04'), ('08', kad + '05'), \n",
    "                ('08', kad + '06'), ('08', kad + '07'), ('08', kad + '08'), ('08', kad + '09'), ('08', kad + '10')]"
   ]
  },
  {
   "cell_type": "markdown",
   "metadata": {},
   "source": [
    "#### Pick a pair per node: 09-10 (nodes 05 and 20)"
   ]
  },
  {
   "cell_type": "code",
   "execution_count": null,
   "metadata": {},
   "outputs": [],
   "source": [
    "sensor_pairs1 = [('09', kad + '01'), ('09', kad + '02'), ('09', kad + '03'), ('09', kad + '04'), ('09', kad + '05'), \n",
    "                ('09', kad + '06'), ('09', kad + '07'), ('09', kad + '08'), ('09', kad + '09'), ('09', kad + '10')]\n",
    "\n",
    "sensor_pairs2 = [('10', kad + '01'), ('10', kad + '02'), ('10', kad + '03'), ('10', kad + '04'), ('10', kad + '05'),\n",
    "                ('10', kad + '06'), ('10', kad + '07'), ('10', kad + '08'), ('10', kad + '09'), ('10', kad + '10')]"
   ]
  },
  {
   "cell_type": "markdown",
   "metadata": {},
   "source": [
    "#### Run evaluation (joint for silent and moving)"
   ]
  },
  {
   "cell_type": "code",
   "execution_count": null,
   "metadata": {},
   "outputs": [],
   "source": [
    "# Resulting timeframes either from silent or moving\n",
    "tframes = [(tf1, tf2), (tf1, tf2), (tf1, tf2), (tf1, tf2), (tf1, tf2), (tf1, tf2), (tf1, tf2), (tf1, tf2), \n",
    "           (tf1, tf2), (tf1, tf2)] \n",
    "\n",
    "eval_per_sensor_pair(acc, 'acc_v', sensor_pairs1, tframes, action, exp_str, rnoise='chunk')\n",
    "eval_per_sensor_pair(acc, 'acc_v', sensor_pairs2, tframes, action, exp_str, rnoise='chunk')\n",
    "\n",
    "eval_per_sensor_pair(acc, 'acc_h', sensor_pairs1, tframes, action, exp_str, rnoise='chunk')\n",
    "eval_per_sensor_pair(acc, 'acc_h', sensor_pairs2, tframes, action, exp_str, rnoise='chunk')\n",
    "\n",
    "eval_per_sensor_pair(gyr, 'gyrW', sensor_pairs1, tframes, action, exp_str, rnoise='chunk')\n",
    "eval_per_sensor_pair(gyr, 'gyrW', sensor_pairs2, tframes, action, exp_str, rnoise='chunk')\n",
    "\n",
    "eval_per_sensor_pair(bar, 'bar', sensor_pairs1, tframes, action, exp_str, rnoise='chunk')\n",
    "eval_per_sensor_pair(bar, 'bar', sensor_pairs2, tframes, action, exp_str, rnoise='chunk')"
   ]
  },
  {
   "cell_type": "markdown",
   "metadata": {},
   "source": [
    "### Replaying adversary (without *delta* compensation):"
   ]
  },
  {
   "cell_type": "code",
   "execution_count": null,
   "metadata": {},
   "outputs": [],
   "source": [
    "# Adjust <EXPERIMENT> here (e.g., experiment = exp2)\n",
    "experiment = exp1\n",
    "action = 'replay'\n",
    "\n",
    "if experiment == SIM_NON_ADV:\n",
    "    tf1 = (1210, -1)\n",
    "    tf2 = (1210, -1)\n",
    "    \n",
    "elif experiment == SIM_ADV:\n",
    "    tf1 = (0, 11540)\n",
    "    tf2 = (0, 11540)\n",
    "    \n",
    "elif experiment == DIFF_PARK:\n",
    "    tf1 = (530, 2810)\n",
    "    tf2 = (530, 2810)\n",
    "    \n",
    "elif experiment == DIFF_NON_ADV:\n",
    "    tf1 = (905, -1)\n",
    "    tf2 = (905, -1)\n",
    "    \n",
    "elif experiment == DIFF_ADV:\n",
    "    tf1 = (0, -1)\n",
    "    tf2 = (0, -1)\n",
    "    \n",
    "else:\n",
    "    print('Unknown experiment %s' % (experiment,))"
   ]
  },
  {
   "cell_type": "markdown",
   "metadata": {},
   "source": [
    "### Computation for replay: computaion takes a while, so I highly recommend distributing it on different machines, i.e., each machine computes on two lists of sensor pairs (see below). The computation is already parallelized on a pair level (i.e., elements in the *sensor_pairsX* list), so throwing more than 5 cores at the problem won't make it faster. "
   ]
  },
  {
   "cell_type": "markdown",
   "metadata": {},
   "source": [
    "#### Pick a pair per node: 01-02 (nodes 01 and 11)"
   ]
  },
  {
   "cell_type": "code",
   "execution_count": null,
   "metadata": {},
   "outputs": [],
   "source": [
    "sensor_pairs1 = [('01', '06'), ('01', '07'), ('01', '08'), ('01', '09'), ('01', '10')]\n",
    "sensor_pairs2 = [('02', '06'), ('02', '07'), ('02', '08'), ('02', '09'), ('02', '10')]"
   ]
  },
  {
   "cell_type": "markdown",
   "metadata": {},
   "source": [
    "#### Pick a pair per node: 03-04 (nodes 02 and 12)"
   ]
  },
  {
   "cell_type": "code",
   "execution_count": null,
   "metadata": {},
   "outputs": [],
   "source": [
    "sensor_pairs1 = [('03', '06'), ('03', '07'), ('03', '08'), ('03', '09'), ('03', '10')]\n",
    "sensor_pairs2 = [('04', '06'), ('04', '07'), ('04', '08'), ('04', '09'), ('04', '10')]"
   ]
  },
  {
   "cell_type": "markdown",
   "metadata": {},
   "source": [
    "#### Pick a pair per node: 05-06 (nodes 03 and 14)"
   ]
  },
  {
   "cell_type": "code",
   "execution_count": null,
   "metadata": {},
   "outputs": [],
   "source": [
    "sensor_pairs1 = [('05', '06'), ('05', '07'), ('05', '08'), ('05', '09'), ('05', '10')]\n",
    "sensor_pairs2 = [('06', '01'), ('06', '02'), ('06', '03'), ('06', '04'), ('06', '05')]"
   ]
  },
  {
   "cell_type": "markdown",
   "metadata": {},
   "source": [
    "#### Pick a pair per node: 07-08 (nodes 04 and 16)"
   ]
  },
  {
   "cell_type": "code",
   "execution_count": null,
   "metadata": {},
   "outputs": [],
   "source": [
    "sensor_pairs1 = [('07', '01'), ('07', '02'), ('07', '03'), ('07', '04'), ('07', '05')]\n",
    "sensor_pairs2 = [('08', '01'), ('08', '02'), ('08', '03'), ('08', '04'), ('08', '05')]"
   ]
  },
  {
   "cell_type": "markdown",
   "metadata": {},
   "source": [
    "#### Pick a pair per node: 09-10 (nodes 05 and 20)"
   ]
  },
  {
   "cell_type": "code",
   "execution_count": null,
   "metadata": {},
   "outputs": [],
   "source": [
    "sensor_pairs1 = [('09', '01'), ('09', '02'), ('09', '03'), ('09', '04'), ('09', '05')]\n",
    "sensor_pairs2 = [('10', '01'), ('10', '02'), ('10', '03'), ('10', '04'), ('10', '05')]"
   ]
  },
  {
   "cell_type": "markdown",
   "metadata": {},
   "source": [
    "#### Run evaluation"
   ]
  },
  {
   "cell_type": "code",
   "execution_count": null,
   "metadata": {},
   "outputs": [],
   "source": [
    "# Resulting timeframes\n",
    "tframes = [(tf1, tf2), (tf1, tf2), (tf1, tf2), (tf1, tf2), (tf1, tf2)] \n",
    "\n",
    "eval_per_sensor_pair(acc, 'acc_v', sensor_pairs1, tframes, action, experiment, rnoise='chunk')\n",
    "eval_per_sensor_pair(acc, 'acc_v', sensor_pairs2, tframes, action, experiment, rnoise='chunk')\n",
    "\n",
    "eval_per_sensor_pair(acc, 'acc_h', sensor_pairs1, tframes, action, experiment, rnoise='chunk')\n",
    "eval_per_sensor_pair(acc, 'acc_h', sensor_pairs2, tframes, action, experiment, rnoise='chunk')\n",
    "\n",
    "eval_per_sensor_pair(gyr, 'gyrW', sensor_pairs1, tframes, action, experiment, rnoise='chunk')\n",
    "eval_per_sensor_pair(gyr, 'gyrW', sensor_pairs2, tframes, action, experiment, rnoise='chunk')\n",
    "\n",
    "eval_per_sensor_pair(bar, 'bar', sensor_pairs1, tframes, action, experiment, rnoise='chunk')\n",
    "eval_per_sensor_pair(bar, 'bar', sensor_pairs2, tframes, action, experiment, rnoise='chunk')"
   ]
  }
 ],
 "metadata": {
  "kernelspec": {
   "display_name": "Python 3",
   "language": "python",
   "name": "python3"
  },
  "language_info": {
   "codemirror_mode": {
    "name": "ipython",
    "version": 3
   },
   "file_extension": ".py",
   "mimetype": "text/x-python",
   "name": "python",
   "nbconvert_exporter": "python",
   "pygments_lexer": "ipython3",
   "version": "3.6.9"
  }
 },
 "nbformat": 4,
 "nbformat_minor": 2
}
