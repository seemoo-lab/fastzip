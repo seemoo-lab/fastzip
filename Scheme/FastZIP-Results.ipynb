{
 "cells": [
  {
   "cell_type": "markdown",
   "metadata": {},
   "source": [
    "# FastZIP results\n",
    "\n",
    "This notebook contains functionality for computing and plotting error rates, pairing time, as well as preparing binary fingerprints for randomness evaluation with NIST SP 800-90B test suite."
   ]
  },
  {
   "cell_type": "markdown",
   "metadata": {},
   "source": [
    "Some magic command to automatically reload changed modules"
   ]
  },
  {
   "cell_type": "code",
   "execution_count": null,
   "metadata": {},
   "outputs": [],
   "source": [
    "%load_ext autoreload\n",
    "%autoreload 2"
   ]
  },
  {
   "cell_type": "markdown",
   "metadata": {},
   "source": [
    "Import necessary modules:"
   ]
  },
  {
   "cell_type": "code",
   "execution_count": null,
   "metadata": {},
   "outputs": [],
   "source": [
    "import os\n",
    "import re\n",
    "import shutil\n",
    "from glob import glob\n",
    "from bitarray import bitarray\n",
    "from distutils.dir_util import copy_tree\n",
    "from common.visualizedata import plot_error_rates, plot_fusion_effect\n",
    "from common.randomness import plot_rand_walk\n",
    "from common.util import get_fused_error_rates, get_indiv_error_rates, replay_with_compensation, extract_fingerptins, powerful_adv, compute_pairing_time, fuse_fps\n",
    "from const.globconst import *"
   ]
  },
  {
   "cell_type": "markdown",
   "metadata": {},
   "source": [
    "### Compute True Acceptance Rates (TARs) of colocated devices (i.e., in the same car)"
   ]
  },
  {
   "cell_type": "markdown",
   "metadata": {},
   "source": [
    "#### TARs of individual sensor modalities"
   ]
  },
  {
   "cell_type": "code",
   "execution_count": null,
   "metadata": {},
   "outputs": [],
   "source": [
    "# Provide path to log files: part 'logs/benign' MUST be in the filepath! \n",
    "# 'sim-non-adv' is for *similar cars* experiment: TARs are already computed for both adversarial and non-adversarial cases, \n",
    "# so there is no need to lauch this tab with 'sim-adv'—it will produce the same result. \n",
    "# For *different cars* experiment change 'sim-non-adv' in log_path to either 'diff-non-adv', 'diff-park', or 'diff-adv'.\n",
    "log_path = '/home/seemoo/car_zip/logs/benign/sim-non-adv' \n",
    "\n",
    "# Iterate over sensor types \n",
    "for st in ['acc_v', 'acc_h', 'gyrW', 'bar']:\n",
    "    # Compute individual error rates for the full experiment and scenarios\n",
    "    get_indiv_error_rates(log_path, st, 'benign')\n",
    "    print()\n",
    "    get_indiv_error_rates(log_path, st, 'benign', 'city')\n",
    "    print()\n",
    "    get_indiv_error_rates(log_path, st, 'benign', 'country')\n",
    "    print()\n",
    "    get_indiv_error_rates(log_path, st, 'benign', 'highway')\n",
    "    print()\n",
    "    get_indiv_error_rates(log_path, st, 'benign', 'parking')\n",
    "    print()"
   ]
  },
  {
   "cell_type": "markdown",
   "metadata": {},
   "source": [
    "#### TARs of fused sensor modalities"
   ]
  },
  {
   "cell_type": "code",
   "execution_count": null,
   "metadata": {},
   "outputs": [],
   "source": [
    "# Provide path to log files: part 'logs/benign' MUST be in the filepath! \n",
    "# 'sim-non-adv' is for *similar cars* experiment: TARs are already computed for both adversarial and non-adversarial cases, \n",
    "# so there is no need to lauch this tab with 'sim-adv'—it will produce the same result. \n",
    "# For *different cars* experiment change 'sim-non-adv' in log_path to either 'diff-non-adv', 'diff-park', or 'diff-adv'.\n",
    "log_path = '/home/seemoo/car_zip/logs/benign/diff-non-adv'\n",
    "\n",
    "# Iterate over different fusion combinations\n",
    "for fc in FUSION_CONFIG:\n",
    "    get_fused_error_rates(log_path, fc, 'benign')\n",
    "    get_fused_error_rates(log_path, fc, 'benign', 'city')\n",
    "    get_fused_error_rates(log_path, fc, 'benign', 'country')\n",
    "    get_fused_error_rates(log_path, fc, 'benign', 'highway')\n",
    "    get_fused_error_rates(log_path, fc, 'benign', 'parking')"
   ]
  },
  {
   "cell_type": "markdown",
   "metadata": {},
   "source": [
    "### Compute False Acceptance Rates (FARs) of non-colocated devices (i.e., in different cars)"
   ]
  },
  {
   "cell_type": "markdown",
   "metadata": {},
   "source": [
    "#### FARs of individual sensor modalities (baseline adversary: *injection attack* in the paper). At the time of cell execution only ONE *log_path* should be uncommented; 'silent' refers to *static injection*, while 'moving'—to *moving injection*"
   ]
  },
  {
   "cell_type": "code",
   "execution_count": null,
   "metadata": {},
   "outputs": [],
   "source": [
    "# Provide path to log files: part 'logs/baseline' MUST be in the filepath! \n",
    "# Compute FARs for *similar cars* experiment\n",
    "# log_path = '/home/seemoo/car_zip/logs/baseline/sim-non-adv/silent/sim-non-adv'     # silent\n",
    "# log_path = '/home/seemoo/car_zip/logs/baseline/sim-non-adv/moving/sim-non-adv'     # moving\n",
    "\n",
    "# Compute FARs for *different cars* experiment\n",
    "# log_path = '/home/seemoo/car_zip/logs/baseline/diff-non-adv/silent/sim-non-adv'     # silent\n",
    "log_path = '/home/seemoo/car_zip/logs/baseline/diff-non-adv/moving/sim-non-adv'     # moving\n",
    "\n",
    "# Iterate over sensor types \n",
    "for st in ['acc_v', 'acc_h', 'gyrW', 'bar']:\n",
    "    # Compute individual error rates for the full experiment and scenarios\n",
    "    get_indiv_error_rates(log_path, st, 'baseline')\n",
    "    print()\n",
    "    get_indiv_error_rates(log_path, st, 'baseline', 'city')\n",
    "    print()\n",
    "    get_indiv_error_rates(log_path, st, 'baseline', 'country')\n",
    "    print()\n",
    "    get_indiv_error_rates(log_path, st, 'baseline', 'highway')\n",
    "    print()\n",
    "    get_indiv_error_rates(log_path, st, 'baseline', 'parking')\n",
    "    print()"
   ]
  },
  {
   "cell_type": "markdown",
   "metadata": {},
   "source": [
    "#### FARs of fused sensor modalities (baseline adversary: *injection attack* in the paper). At the time of cell execution only ONE *log_path* should be uncommented; 'silent' refers to *static injection*, while 'moving'—to *moving injection*"
   ]
  },
  {
   "cell_type": "code",
   "execution_count": null,
   "metadata": {},
   "outputs": [],
   "source": [
    "# Provide path to log files: part 'logs/baseline' MUST be in the filepath! \n",
    "# Compute FARs for *similar cars* experiment\n",
    "log_path = '/home/seemoo/car_zip/logs/baseline/sim-non-adv/silent/sim-non-adv'     # silent\n",
    "# log_path = '/home/seemoo/car_zip/logs/baseline/sim-non-adv/moving/sim-non-adv'     # moving\n",
    "\n",
    "# Compute FARs for *different cars* experiment\n",
    "# log_path = '/home/seemoo/car_zip/logs/baseline/diff-non-adv/silent/sim-non-adv'     # silent\n",
    "# log_path = '/home/seemoo/car_zip/logs/baseline/diff-non-adv/moving/sim-non-adv'     # moving\n",
    "\n",
    "# Iterate over different fusion combinations\n",
    "for fc in FUSION_CONFIG:\n",
    "    get_fused_error_rates(log_path, fc, 'baseline')\n",
    "    get_fused_error_rates(log_path, fc, 'baseline', 'city')\n",
    "    get_fused_error_rates(log_path, fc, 'baseline', 'country')\n",
    "    get_fused_error_rates(log_path, fc, 'baseline', 'highway')\n",
    "    get_fused_error_rates(log_path, fc, 'baseline', 'parking')"
   ]
  },
  {
   "cell_type": "markdown",
   "metadata": {},
   "source": [
    "#### FARs of individual sensor modalities (replaying adversary: *basic replay* in the paper). At the time of cell execution only ONE *log_path* should be uncommented"
   ]
  },
  {
   "cell_type": "code",
   "execution_count": null,
   "metadata": {},
   "outputs": [],
   "source": [
    "# Provide path to log files: part 'logs/replay' MUST be in the filepath! \n",
    "# Compute FARs for *similar cars* experiment: change log_path to either'sim-non-adv' or 'sim-adv' \n",
    "log_path = '/home/seemoo/car_zip/logs/replay/sim-non-adv'\n",
    "\n",
    "# Compute FARs for *different cars* experiment: change log_path to either'diff-non-adv', 'diff-park', or 'diff-adv'\n",
    "# log_path = '/home/seemoo/car_zip/logs/replay/diff-adv'\n",
    "\n",
    "# Iterate over sensor types \n",
    "for st in ['acc_v', 'acc_h', 'gyrW', 'bar']:\n",
    "    \n",
    "    if 'diff-non-adv' in log_path or 'diff-adv' in log_path:\n",
    "        # Compute individual error rates for the full experiment and scenarios\n",
    "        get_indiv_error_rates(log_path, st, 'replay')\n",
    "        print()\n",
    "        get_indiv_error_rates(log_path, st, 'replay', 'city')\n",
    "        print()\n",
    "        get_indiv_error_rates(log_path, st, 'replay', 'country')\n",
    "        print()\n",
    "        get_indiv_error_rates(log_path, st, 'replay', 'highway')\n",
    "        print()\n",
    "        \n",
    "        # Workaround because we have 'parking' scenario in another folder\n",
    "        if 'diff-non-adv' in log_path:\n",
    "            get_indiv_error_rates(log_path.replace('diff-non-adv', 'diff-park'), st, 'replay', 'parking')\n",
    "        else:\n",
    "            get_indiv_error_rates(log_path.replace('diff-adv', 'diff-park'), st, 'replay', 'parking')\n",
    "        \n",
    "        # Copy parking.json to either diff-non-adv or diff-adv cache folders\n",
    "        copy_tree(CACHE_PATH + '/replay/far/diff-park/indiv/' + st, \n",
    "                         CACHE_PATH + '/replay/far/' + log_path.split('/')[-1] + '/indiv/' + st)\n",
    "        print()\n",
    "    elif 'diff-park' in log_path:\n",
    "        get_indiv_error_rates(log_path, st, 'replay', 'parking')\n",
    "    else:\n",
    "        # Compute individual error rates for the full experiment and scenarios\n",
    "        get_indiv_error_rates(log_path, st, 'replay')\n",
    "        print()\n",
    "        get_indiv_error_rates(log_path, st, 'replay', 'city')\n",
    "        print()\n",
    "        get_indiv_error_rates(log_path, st, 'replay', 'country')\n",
    "        print()\n",
    "        get_indiv_error_rates(log_path, st, 'replay', 'highway')\n",
    "        print()\n",
    "        get_indiv_error_rates(log_path, st, 'replay', 'parking')\n",
    "        print()"
   ]
  },
  {
   "cell_type": "markdown",
   "metadata": {},
   "source": [
    "#### FARs of fused sensor modalities (replaying adversary: *basic replay* in the paper). At the time of cell execution only ONE *log_path* should be uncommented"
   ]
  },
  {
   "cell_type": "code",
   "execution_count": null,
   "metadata": {},
   "outputs": [],
   "source": [
    "# Provide path to log files: part 'logs/replay' MUST be in the filepath! \n",
    "# Compute FARs for *similar cars* experiment: change log_path to either'sim-non-adv' or 'sim-adv' \n",
    "# log_path = '/home/seemoo/car_zip/logs/replay/sim-non-adv'\n",
    "\n",
    "# Compute FARs for *different cars* experiment: change log_path to either'diff-non-adv', 'diff-park', or 'diff-adv'\n",
    "log_path = '/home/seemoo/car_zip/logs/replay/diff-non-adv'\n",
    "\n",
    "# Iterate over different fusion combinations\n",
    "for fc in FUSION_CONFIG:\n",
    "    if 'diff-non-adv' in log_path or 'diff-adv' in log_path:\n",
    "        get_fused_error_rates(log_path, fc, 'replay')\n",
    "        get_fused_error_rates(log_path, fc, 'replay', 'city')\n",
    "        get_fused_error_rates(log_path, fc, 'replay', 'country')\n",
    "        get_fused_error_rates(log_path, fc, 'replay', 'highway')\n",
    "        \n",
    "        # Workaround because we have 'parking' scenario in another folder\n",
    "        if 'diff-non-adv' in log_path:\n",
    "            get_fused_error_rates(log_path.replace('diff-non-adv', 'diff-park'), fc, 'replay', 'parking')\n",
    "        else:\n",
    "            get_fused_error_rates(log_path.replace('diff-adv', 'diff-park'), fc, 'replay', 'parking')\n",
    "        \n",
    "        # Create part of the path showing sensor fusion\n",
    "        st_path = ''\n",
    "        \n",
    "        # Iterate over sensor_types\n",
    "        for st in fc:\n",
    "            if st_path:\n",
    "                st_path += '-' + st\n",
    "            else:\n",
    "                st_path += st\n",
    "        \n",
    "        # Copy parking.json to either diff-non-adv or diff-adv cache folders\n",
    "        copy_tree(CACHE_PATH + '/replay/far/diff-park/fused/' + st_path, \n",
    "                         CACHE_PATH + '/replay/far/' + log_path.split('/')[-1] + '/fused/' + st_path)\n",
    "    elif 'diff-park' in log_path:\n",
    "        get_fused_error_rates(log_path, fc, 'replay', 'parking')\n",
    "    else:\n",
    "        get_fused_error_rates(log_path, fc, 'replay')\n",
    "        get_fused_error_rates(log_path, fc, 'replay', 'city')\n",
    "        get_fused_error_rates(log_path, fc, 'replay', 'country')\n",
    "        get_fused_error_rates(log_path, fc, 'replay', 'highway')\n",
    "        get_fused_error_rates(log_path, fc, 'replay', 'parking')"
   ]
  },
  {
   "cell_type": "markdown",
   "metadata": {},
   "source": [
    "#### FARs of individual sensor modalities (replaying adversary: *targeted replay* in the paper). At the time of cell execution only ONE *log_path* should be uncommented"
   ]
  },
  {
   "cell_type": "code",
   "execution_count": null,
   "metadata": {},
   "outputs": [],
   "source": [
    "# Provide path to log files: part 'keys' MUST be in the filepath! \n",
    "# Compute FARs for *similar cars* experiment: change log_path to either'sim-non-adv' or 'sim-adv' \n",
    "# log_path = '/home/seemoo/car_zip/logs/keys/sim-adv'\n",
    "\n",
    "# Compute FARs for *different cars* experiment: change log_path to either'diff-non-adv', 'diff-park', or 'diff-adv'\n",
    "log_path = '/home/seemoo/car_zip/logs/keys/diff-adv'\n",
    "\n",
    "# Iterate over sensor types \n",
    "for st in ['acc_v', 'acc_h', 'gyrW', 'bar']:\n",
    "    if 'diff-non-adv' in log_path or 'diff-adv' in log_path:\n",
    "        replay_with_compensation(log_path, [st], 'full', car=1)\n",
    "        replay_with_compensation(log_path, [st], 'full', car=2)\n",
    "        \n",
    "    elif 'diff-park' in log_path:\n",
    "        replay_with_compensation(log_path, [st], 'parking', car=1)\n",
    "        replay_with_compensation(log_path, [st], 'parking', car=2)\n",
    "        \n",
    "    else:\n",
    "        replay_with_compensation(log_path, [st], 'full', car=1)\n",
    "        replay_with_compensation(log_path, [st], 'full', car=2)"
   ]
  },
  {
   "cell_type": "markdown",
   "metadata": {},
   "source": [
    "#### FARs of fused sensor modalities (replaying adversary: *targeted replay* in the paper). At the time of cell execution only ONE *log_path* should be uncommented"
   ]
  },
  {
   "cell_type": "code",
   "execution_count": null,
   "metadata": {},
   "outputs": [],
   "source": [
    "# Provide path to log files: part 'keys' MUST be in the filepath! \n",
    "# Compute FARs for *similar cars* experiment: change log_path to either'sim-non-adv' or 'sim-adv' \n",
    "log_path = '/home/seemoo/car_zip/logs/keys/sim-non-adv'\n",
    "\n",
    "# Compute FARs for *different cars* experiment: change log_path to either'diff-non-adv', 'diff-park', or 'diff-adv'\n",
    "# log_path = '/home/seemoo/car_zip/logs/keys/diff-adv'\n",
    "\n",
    "# Iterate over different fusion combinations\n",
    "for fc in FUSION_CONFIG:\n",
    "    if 'diff-non-adv' in log_path or 'diff-adv' in log_path:\n",
    "        replay_with_compensation(log_path, fc, 'full', car=1)\n",
    "        replay_with_compensation(log_path, fc, 'full', car=2)\n",
    "        \n",
    "    elif 'diff-park' in log_path:\n",
    "        replay_with_compensation(log_path, fc, 'parking', car=1)\n",
    "        replay_with_compensation(log_path, fc, 'parking', car=2)\n",
    "        \n",
    "    else:\n",
    "        replay_with_compensation(log_path, fc, 'full', car=1)\n",
    "        replay_with_compensation(log_path, fc, 'full', car=2)"
   ]
  },
  {
   "cell_type": "markdown",
   "metadata": {},
   "source": [
    "#### FARs with poweful adversary: *similar-context attack*  in the paper"
   ]
  },
  {
   "cell_type": "code",
   "execution_count": null,
   "metadata": {},
   "outputs": [],
   "source": [
    "# Provide path to log files: part 'keys/sim-adv' or 'key/diff-adv' MUST be in the filepath! \n",
    "# Here, only 'sim-adv' and 'diff-adv' options are possible\n",
    "\n",
    "# log_path = '/home/seemoo/car_zip/logs/keys/sim-adv'\n",
    "log_path = '/home/seemoo/car_zip/logs/keys/diff-adv'\n",
    "\n",
    "# Iterate over different fusion combinations\n",
    "for fc in FUSION_CONFIG:\n",
    "    powerful_adv(log_path, fc, car=1)\n",
    "    powerful_adv(log_path, fc, 'city', car=1)\n",
    "    powerful_adv(log_path, fc, 'country', car=1)\n",
    "    powerful_adv(log_path, fc, 'highway', car=1)\n",
    "    \n",
    "    powerful_adv(log_path, fc, car=2)\n",
    "    powerful_adv(log_path, fc, 'city', car=2)\n",
    "    powerful_adv(log_path, fc, 'country', car=2)\n",
    "    powerful_adv(log_path, fc, 'highway', car=2)"
   ]
  },
  {
   "cell_type": "markdown",
   "metadata": {},
   "source": [
    "### Compute pairing time"
   ]
  },
  {
   "cell_type": "markdown",
   "metadata": {},
   "source": [
    "#### Pairing time with individual sensor modalities"
   ]
  },
  {
   "cell_type": "code",
   "execution_count": null,
   "metadata": {},
   "outputs": [],
   "source": [
    "# Provide path to log files: part 'keys' or 'key' MUST be in the filepath! \n",
    "# Here, we combine data inside the experiment so use paths 'sim-adv' or 'sim-non-adv' for *similar cars* experiment and \n",
    "# 'diff-adv' or 'diff-non-adv' for *different cars* experiment\n",
    "\n",
    "log_path = '/home/seemoo/car_zip/logs/keys/sim-adv'\n",
    "# log_path = '/home/seemoo/car_zip/logs/keys/diff-adv'\n",
    "\n",
    "# Protocol can be either FPAKE (prot='fpake') or fuzzy commitment (prot='fcom')\n",
    "prot='fpake' \n",
    "\n",
    "# Iterate over sensor types \n",
    "for st in ['acc_v', 'acc_h', 'gyrW', 'bar']:\n",
    "    \n",
    "    # Set number of chunks\n",
    "    if prot == 'fpake':\n",
    "        if st == 'acc_v':\n",
    "            rc = 6\n",
    "        elif st == 'acc_h':\n",
    "            rc = 5\n",
    "        elif st == 'gyrW':\n",
    "            rc = 4\n",
    "        elif st == 'bar':\n",
    "            rc = 5\n",
    "    elif prot == 'fcom':\n",
    "        if st == 'acc_v':\n",
    "            rc = 9\n",
    "        elif st == 'acc_h':\n",
    "            rc = 8\n",
    "        elif st == 'gyrW':\n",
    "            rc = 10\n",
    "        elif st == 'bar':\n",
    "            rc = 13\n",
    "    else:\n",
    "        print('Error: unknown protocol type \"%s\", use either \"fpake\" or \"fcom\"!' % (prot,))\n",
    "        break\n",
    "    \n",
    "    compute_pairing_time(log_path, [st], req_chunks=rc, prot=prot)\n",
    "    compute_pairing_time(log_path, [st], 'city', req_chunks=rc, prot=prot)\n",
    "    compute_pairing_time(log_path, [st], 'highway', req_chunks=rc, prot=prot)\n",
    "    compute_pairing_time(log_path, [st], 'country', req_chunks=rc, prot=prot)\n",
    "    compute_pairing_time(log_path, [st], 'parking', req_chunks=rc, prot=prot)"
   ]
  },
  {
   "cell_type": "markdown",
   "metadata": {},
   "source": [
    "#### Pairing time with fused sensor modalities"
   ]
  },
  {
   "cell_type": "code",
   "execution_count": null,
   "metadata": {},
   "outputs": [],
   "source": [
    "# Provide path to log files: part 'keys' or 'key' MUST be in the filepath! \n",
    "# Here, we combine data inside the experiment so use paths 'sim-adv' or 'sim-non-adv' for *similar cars* experiment and \n",
    "# 'diff-adv' or 'diff-non-adv' for *different cars* experiment\n",
    "\n",
    "# log_path = '/home/seemoo/car_zip/logs/keys/sim-adv'\n",
    "log_path = '/home/seemoo/car_zip/logs/keys/diff-adv'\n",
    "\n",
    "# Protocol can be either FPAKE (prot='fpake') or fuzzy commitment (prot='fcom')\n",
    "prot='fcom'\n",
    "\n",
    "# Iterate over different fusion combinations\n",
    "for fc in FUSION_CONFIG:\n",
    "    compute_pairing_time(log_path, fc, prot=prot)\n",
    "    print()\n",
    "    compute_pairing_time(log_path, fc, 'city', prot=prot)\n",
    "    print()\n",
    "    compute_pairing_time(log_path, fc, 'highway', prot=prot)\n",
    "    print()\n",
    "    compute_pairing_time(log_path, fc, 'country', prot=prot)\n",
    "    print()\n",
    "    compute_pairing_time(log_path, fc, 'parking', prot=prot) \n",
    "    print()\n",
    "    print()"
   ]
  },
  {
   "cell_type": "markdown",
   "metadata": {},
   "source": [
    "### Plot results"
   ]
  },
  {
   "cell_type": "markdown",
   "metadata": {},
   "source": [
    "Set up plotting parameters so that figures look plausible in the notebook:"
   ]
  },
  {
   "cell_type": "code",
   "execution_count": null,
   "metadata": {},
   "outputs": [],
   "source": [
    "import matplotlib.pylab as pylab\n",
    "\n",
    "# Params to control plotting\n",
    "params = {'legend.fontsize': 16,\n",
    "          'figure.figsize': (20, 15),\n",
    "          'axes.labelsize': 16,\n",
    "          'axes.titlesize': 16,\n",
    "          'xtick.labelsize': 16,\n",
    "          'ytick.labelsize': 16}\n",
    "\n",
    "# Set customized plotting params\n",
    "pylab.rcParams.update(params)"
   ]
  },
  {
   "cell_type": "markdown",
   "metadata": {},
   "source": [
    "#### Plot error rates of individual sensor modalities"
   ]
  },
  {
   "cell_type": "code",
   "execution_count": null,
   "metadata": {},
   "outputs": [],
   "source": [
    "# Make sure cache_path points to correct folder, e.g., 'benign', 'baseline', 'replay', ...\n",
    "# !!! cache must point to 'indiv' folders NOT 'fused': for fused error rates see below !!! \n",
    "cache_path = '/home/seemoo/car_zip/cache/replay-compensation/far/sim-adv/car1-2/indiv'\n",
    "\n",
    "# Examples of valid paths\n",
    "# cache_path = '/home/seemoo/car_zip/cache/benign/tar/diff/indiv'\n",
    "# cache_path = '/home/seemoo/car_zip/cache/baseline/far/silent/diff/indiv'\n",
    "# cache_path = '/home/seemoo/car_zip/cache/baseline/far/moving/sim/indiv'\n",
    "# cache_path = '/home/seemoo/car_zip/cache/replay/far/diff-non-adv/indiv'\n",
    "\n",
    "# Set up correct action: make sure it corresponds to the provided cache_path!!!\n",
    "action = 'replay-compensation'\n",
    "\n",
    "# Save flag\n",
    "save = False\n",
    "\n",
    "if not save:\n",
    "    # Display error rates in text and plot results in the notebook; plots are NOT saved\n",
    "    plot_error_rates(cache_path, action)\n",
    "else:\n",
    "    # Display error rate plots and SAVE them on disk; NO error rates in text are displayed\n",
    "    plot_error_rates(cache_path, action, ['1', '2'])"
   ]
  },
  {
   "cell_type": "markdown",
   "metadata": {},
   "source": [
    "#### Plot error rates of fused sensor modalities"
   ]
  },
  {
   "cell_type": "code",
   "execution_count": null,
   "metadata": {},
   "outputs": [],
   "source": [
    "# Make sure cache_path points to correct folder, e.g., 'benign', 'baseline', 'replay', ...\n",
    "# !!! cache must point to 'indiv' folders NOT 'fused': for fused error rates see below !!! \n",
    "cache_path = '/home/seemoo/car_zip/cache/benign/tar/sim/fused'\n",
    "\n",
    "# Examples of valid paths\n",
    "# cache_path = '/home/seemoo/car_zip/cache/baseline/far/moving/diff/fused'\n",
    "# cache_path = '/home/seemoo/car_zip/cache/replay/far/diff-non-adv/fused'\n",
    "# cache_path = '/home/seemoo/car_zip/cache/replay-compensation/far/diff-non-adv/car1-2/fused'\n",
    "# cache_path = '/home/seemoo/car_zip/cache/powerful/far/diff-adv/car1-2'\n",
    "\n",
    "# Display sensor fusion plots and save them to disk\n",
    "plot_fusion_effect(cache_path, 'benign', {'acc_v': 'city', 'acc_h':'country', 'gyrW':'highway', 'bar': 'parking'})\n",
    "\n",
    "# A few more examples how the function is called for different actions, e.g., 'baseline', 'replay', ...\n",
    "\n",
    "# plot_fusion_effect(cache_path, 'baseline', {'acc_v': 'parking', 'acc_h':'country', 'gyrW': 'highway', 'bar': 'city'})\n",
    "# plot_fusion_effect(cache_path, 'baseline', {'acc_v': 'parking', 'acc_h':'city', 'gyrW': 'highway', 'bar': 'country'})\n",
    "# plot_fusion_effect(cache_path, 'replay', {'acc_v': 'highway', 'acc_h':'parking', 'gyrW': 'city', 'bar': 'country'}) # for sim\n",
    "# plot_fusion_effect(cache_path, 'replay', {'acc_v': 'country', 'acc_h':'parking', 'gyrW': 'highway', 'bar': 'city'}) # for diff\n",
    "# plot_fusion_effect(cache_path, 'replay-compensation', {'acc_v': 'highway', 'acc_h':'country', 'gyrW': 'parking', 'bar': 'city'})\n",
    "# plot_fusion_effect(cache_path, 'powerful', {'acc_v': 'highway', 'acc_h':'country', 'gyrW': 'parking', 'bar': 'city'})\n",
    "# plot_fusion_effect(cache_path, 'powerful', {'acc_v': 'full', 'acc_h': 'country', 'gyrW': 'city', 'bar': 'highway'})"
   ]
  },
  {
   "cell_type": "markdown",
   "metadata": {},
   "source": [
    "#### Dispaly and plot pairing times"
   ]
  },
  {
   "cell_type": "code",
   "execution_count": null,
   "metadata": {},
   "outputs": [],
   "source": [
    "# Make sure cache_path points to correct folder, e.g., 'pairing-time-fpake' or 'pairing-time-fcom'\n",
    "# !!! here both 'indiv' and 'fused' folders can be provided !!!\n",
    "\n",
    "# cache_path = '/home/seemoo/car_zip/cache/pairing-time-fpake/sim/indiv'\n",
    "cache_path = '/home/seemoo/car_zip/cache/pairing-time-fpake/diff/fused'\n",
    "\n",
    "# Save flag\n",
    "save = False\n",
    "\n",
    "if not save:\n",
    "    # Display error rates in text and plot results in the notebook; plots are NOT saved\n",
    "    plot_error_rates(cache_path, 'pairing-time')\n",
    "else:\n",
    "    # Display error rate plots and SAVE them on disk; NO error rates in text are displayed\n",
    "    # To suppress huge parking pairing time in the plot uncomment lines 198--199 in visualizedata.py\n",
    "    plot_error_rates(cache_path, 'pairing-time', ['1', '2'])"
   ]
  },
  {
   "cell_type": "markdown",
   "metadata": {},
   "source": [
    "### Prepare fingerprints for randomenss evaluation"
   ]
  },
  {
   "cell_type": "markdown",
   "metadata": {},
   "source": [
    "#### Collect binary fingerprints of individual sensor modalities and store them in *.txt files (both 'full' and 'reduced' fingerprint lenght)"
   ]
  },
  {
   "cell_type": "code",
   "execution_count": null,
   "metadata": {},
   "outputs": [],
   "source": [
    "# Make sure log path points to 'keys'; can be two options 'keys' or 'keys-reduced'\n",
    "# log_path = '/home/seemoo/car_zip/logs/keys'                 \n",
    "log_path = '/home/seemoo/car_zip/logs/keys-reduced'         \n",
    "\n",
    "# Set up fingeprint length: can be 'full' or 'reduced' depending on the log_path\n",
    "if 'keys-reduced' in log_path: \n",
    "    fp_len = 'reduced'\n",
    "else:\n",
    "    fp_len = 'full'\n",
    "\n",
    "# The below code will append to existing files: let's delete any old data we have\n",
    "if os.path.exists(FP_PATH + '/' + fp_len):\n",
    "    shutil.rmtree(FP_PATH + '/' + fp_len)\n",
    "    \n",
    "# Iterate over sensor types \n",
    "break_flag = False\n",
    "for st in ['acc_v', 'acc_h', 'gyrW', 'bar']:\n",
    "    # Iterate over scenarios\n",
    "    for scen in [SIM_NON_ADV, SIM_ADV, DIFF_NON_ADV, DIFF_ADV, DIFF_PARK]:\n",
    "        # Take 1 key, 5 keys, or 10 keys\n",
    "        if fp_len == 'full':\n",
    "            # Generate keys 1x\n",
    "            extract_fingerptins(log_path + '/' + scen, st, fp_len)\n",
    "            \n",
    "            # Generate keys for 5x and 10x\n",
    "            if st == 'acc_v' or st == 'acc_h':\n",
    "                extract_fingerptins(log_path + '/' + scen, st, fp_len, 20)\n",
    "                extract_fingerptins(log_path + '/' + scen, st, fp_len, 10)\n",
    "            elif st == 'gyrW' or st == 'bar':\n",
    "                extract_fingerptins(log_path + '/' + scen, st, fp_len, 8)\n",
    "                extract_fingerptins(log_path + '/' + scen, st, fp_len, 4)\n",
    "           \n",
    "        elif fp_len == 'reduced':\n",
    "            # Generate keys 1x\n",
    "            extract_fingerptins(log_path + '/' + scen, st, fp_len)\n",
    "            \n",
    "            # Generate keys for 5x and 10x\n",
    "            if st == 'acc_v' or st == 'acc_h':\n",
    "                extract_fingerptins(log_path + '/' + scen, st, fp_len, 4)\n",
    "                extract_fingerptins(log_path + '/' + scen, st, fp_len, 2)\n",
    "            elif st == 'gyrW' or st == 'bar':\n",
    "                extract_fingerptins(log_path + '/' + scen, st, fp_len, 2)\n",
    "                extract_fingerptins(log_path + '/' + scen, st, fp_len, 1)\n",
    "        else:\n",
    "            print('Error: unknown fp_len \"%s\", can only be \"full\" or \"reduced\"!' % (fp_len, ))\n",
    "            break_flag = True\n",
    "            break\n",
    "    \n",
    "    # Leave the loop if error\n",
    "    if break_flag:\n",
    "        break"
   ]
  },
  {
   "cell_type": "markdown",
   "metadata": {},
   "source": [
    "#### Collect binary fingerprints of fused sensor modalities and store them in *.txt files (both 'full' and 'reduced' fingerprint lenght)"
   ]
  },
  {
   "cell_type": "code",
   "execution_count": null,
   "metadata": {},
   "outputs": [],
   "source": [
    "# Make sure log path points to 'keys'; can be two options 'keys' or 'keys-reduced'\n",
    "\n",
    "# Paths for *similar cars* experiment (no need to provide any extra paths, e.g., with 'sim-adv')\n",
    "# log_path = '/home/seemoo/car_zip/logs/keys/sim-non-adv'\n",
    "# log_path = '/home/seemoo/car_zip/logs/keys-reduced/sim-non-adv'\n",
    "\n",
    "# Paths for *different cars* experiment (no need to provide any extra paths, e.g., with 'diff-adv')\n",
    "# log_path = '/home/seemoo/car_zip/logs/keys/diff-non-adv'\n",
    "log_path = '/home/seemoo/car_zip/logs/keys-reduced/diff-non-adv'\n",
    "\n",
    "# Set up fingeprint length: can be 'full' or 'reduced' depending on the log_path\n",
    "if 'keys-reduced' in log_path: \n",
    "    fp_len = 'reduced'\n",
    "else:\n",
    "    fp_len = 'full'\n",
    "    \n",
    "# Iterate over sensor combinations\n",
    "for fc in FUSION_CONFIG:\n",
    "    fuse_fps(log_path, fc, fp_len)"
   ]
  },
  {
   "cell_type": "markdown",
   "metadata": {},
   "source": [
    "#### Store fingerprints in binary files (this format is suitable to be input to NIST randomness tests); for fused fingerprints merge fingerprints from 'sim' and 'diff' experiments"
   ]
  },
  {
   "cell_type": "code",
   "execution_count": null,
   "metadata": {},
   "outputs": [],
   "source": [
    "# Read files under FP_PATH\n",
    "txt_files = glob(FP_PATH + '/**/' + '*.txt', recursive=True)\n",
    "\n",
    "# Bring some order to the Galaxy\n",
    "txt_files.sort()\n",
    "\n",
    "# Iterate over txt files\n",
    "for tf in txt_files:\n",
    "    # Open file for reading\n",
    "    with open(tf, 'r') as f:\n",
    "        fps = f.read().splitlines()\n",
    "       \n",
    "    # Print some stat\n",
    "    print(tf)\n",
    "    print(len(fps), fps[0], fps[-1], len(fps[0]))\n",
    "    print()\n",
    "    \n",
    "    # Convert data to bitarray\n",
    "    fps = bitarray(''.join(fps))\n",
    "    \n",
    "    # Save back binary file (needed to run NIST randomness tests)\n",
    "    with open(tf.split('.')[0], 'wb') as f:\n",
    "        fps.tofile(f)\n",
    "        \n",
    "# This part is to combine fused fingerprints from sim and diff cars\n",
    "# Iterate over full and reduced fingerprint sets\n",
    "break_flag = False\n",
    "for fpl in ['full', 'reduced']:\n",
    "    # Iterate over sensor combinations\n",
    "    for fc in FUSION_CONFIG:\n",
    "        # Create part of the path showing sensor fusion\n",
    "        st_path = ''\n",
    "\n",
    "        # Iterate over sensor_types\n",
    "        for st in fc:\n",
    "            if st_path:\n",
    "                st_path += '-' + st\n",
    "            else:\n",
    "                st_path += st\n",
    "\n",
    "        # Get list of two results.txt files for specific fusion combination, e.g., 'acc_v-acc_h'\n",
    "        res_txt = glob(FP_PATH + '/' + fpl + '/fused/*/' + st_path + '/' + '*.txt', recursive=True)\n",
    "        \n",
    "        # We combine files in the following order: first 'sim', then 'diff'\n",
    "        res_txt.sort(reverse=True)\n",
    "        \n",
    "        # Check if res_txt list is valid\n",
    "        if len(res_txt) == 2:\n",
    "            if 'sim' not in res_txt[0] or 'diff' not in res_txt[1]:\n",
    "                print('Error: 1st file \"%s\" must contain \"sim\", 2nd file \"%s\" must contain \"diff\"!' \n",
    "                      % (res_txt[0], res_txt[1]))\n",
    "                break_flag = True\n",
    "                break\n",
    "        else:\n",
    "            print('Error: resulting list \"%s\" contains more than two files, must be excatly two!' % (res_txt))\n",
    "            break_flag = True\n",
    "            break\n",
    "        \n",
    "        # Read files\n",
    "        with open(res_txt[0], 'r') as f:\n",
    "            fps_sim = f.read().splitlines()\n",
    "    \n",
    "        with open(res_txt[1], 'r') as f:\n",
    "            fps_diff = f.read().splitlines()\n",
    "        \n",
    "        # Construct binary content\n",
    "        fps = bitarray(''.join(fps_sim + fps_diff))\n",
    "        \n",
    "        # Construct save file path\n",
    "        save_path = '/'\n",
    "        \n",
    "        for s in res_txt[0].split('/')[1:-3]:\n",
    "            save_path += s + '/'\n",
    "        \n",
    "        # Save fps to a binary file\n",
    "        with open(save_path + st_path, 'wb') as f:\n",
    "            fps.tofile(f)\n",
    "    \n",
    "    # Leave the loop if error\n",
    "    if break_flag:\n",
    "        break"
   ]
  },
  {
   "cell_type": "markdown",
   "metadata": {},
   "source": [
    "#### Plot random walks and Markov property"
   ]
  },
  {
   "cell_type": "code",
   "execution_count": null,
   "metadata": {},
   "outputs": [],
   "source": [
    "# Path to fingerprints of individual sensor modalities, e.g., 'acc_v'\n",
    "fps_path = '/home/seemoo/car_zip/fps/full/5x/acc_h.txt'\n",
    "\n",
    "# Read file\n",
    "with open(fps_path, 'r') as f:\n",
    "    fps = f.read().splitlines()\n",
    "    \n",
    "# Get number of bits\n",
    "n_bits = len(fps[0])\n",
    "\n",
    "# Get sensor type\n",
    "sensor_type = fps_path.split('.')[0].split('/')[-1]\n",
    "\n",
    "# Create randomenss folder if it does not exist\n",
    "if not os.path.exists(PLOT_PATH + '/randomness'):\n",
    "    os.makedirs(PLOT_PATH + '/randomness')\n",
    "\n",
    "# Paths to save random walks and markov property\n",
    "rwalk_path = PLOT_PATH + '/randomness/' + 'rwalk-' + sensor_type + '.pdf'\n",
    "markp_path = PLOT_PATH + '/randomness/' + 'markp-' + sensor_type + '.pdf'\n",
    "\n",
    "# Plot random walks and Markov property\n",
    "plot_rand_walk(fps, n_bits, save_distribution_to=rwalk_path, save_markov_to=markp_path)"
   ]
  }
 ],
 "metadata": {
  "kernelspec": {
   "display_name": "Python 3",
   "language": "python",
   "name": "python3"
  },
  "language_info": {
   "codemirror_mode": {
    "name": "ipython",
    "version": 3
   },
   "file_extension": ".py",
   "mimetype": "text/x-python",
   "name": "python",
   "nbconvert_exporter": "python",
   "pygments_lexer": "ipython3",
   "version": "3.6.9"
  }
 },
 "nbformat": 4,
 "nbformat_minor": 2
}
